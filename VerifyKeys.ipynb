{
 "cells": [
  {
   "cell_type": "code",
   "execution_count": 2,
   "metadata": {},
   "outputs": [
    {
     "name": "stdout",
     "output_type": "stream",
     "text": [
      "Zdjecie zgodne z oryginalem\n"
     ]
    }
   ],
   "source": [
    "import numpy as np\n",
    "import imageio\n",
    "from Crypto.PublicKey import RSA\n",
    "from Crypto.Hash import SHA3_256\n",
    "from Crypto.Signature import pkcs1_15\n",
    "\n",
    "def image_histogram_normalization(image):\n",
    "    image_max = np.max(image)\n",
    "    image_min = np.min(image)\n",
    "    if image_max - image_min != 0:\n",
    "        image = ((((image - image_min) / (image_max - image_min)) * (2**8 - 1)).round()).astype(np.uint8)\n",
    "    return image\n",
    "\n",
    "def load_public_key(file_path):\n",
    "    with open(file_path, 'rb') as f:\n",
    "        public_key = RSA.import_key(f.read())\n",
    "    return public_key\n",
    "\n",
    "def compute_image_hash(image_path):\n",
    "    image = image_histogram_normalization(imageio.imread(image_path))\n",
    "    tabBits = image.ravel()\n",
    "    tabBits = tabBits[tabBits != 0]  #Usun zera z wejscia\n",
    "\n",
    "    processNumbers = []\n",
    "    tc = 0\n",
    "    for x in tabBits:\n",
    "        tc = tc + 1\n",
    "        if tc < 4000:\n",
    "            processNumbers.append(x)\n",
    "\n",
    "    #Zamiana na bajty\n",
    "    random_bytes = bytes(processNumbers)\n",
    "\n",
    "    #Generowanie hasza obrazu\n",
    "    hash_obj = SHA3_256.new(random_bytes)\n",
    "    return hash_obj\n",
    "\n",
    "def verify_file(image_path, public_key_path, signature_path):\n",
    "    #Wczytaj klucz publiczny\n",
    "    public_key = load_public_key(public_key_path)\n",
    "\n",
    "    #Obliczanie hasza \n",
    "    image_hash = compute_image_hash(image_path)\n",
    "\n",
    "    #Wczytaj podpis z pliku\n",
    "    with open(signature_path, 'rb') as f:\n",
    "        signature = f.read()\n",
    "\n",
    "    #Porownaj hasz i podpis\n",
    "    try:\n",
    "        pkcs1_15.new(public_key).verify(image_hash, signature)\n",
    "        print(\"Zdjecie zgodne z oryginalem\")\n",
    "    except (ValueError, TypeError):\n",
    "        print(\"Zdjecie niezgodne z oryginalem\")\n",
    "\n",
    "verify_file('psycho_kopia.png', 'public_key.pem', 'image_signature.bin')"
   ]
  }
 ],
 "metadata": {
  "kernelspec": {
   "display_name": "Python 3",
   "language": "python",
   "name": "python3"
  },
  "language_info": {
   "codemirror_mode": {
    "name": "ipython",
    "version": 3
   },
   "file_extension": ".py",
   "mimetype": "text/x-python",
   "name": "python",
   "nbconvert_exporter": "python",
   "pygments_lexer": "ipython3",
   "version": "3.8.6"
  }
 },
 "nbformat": 4,
 "nbformat_minor": 2
}
