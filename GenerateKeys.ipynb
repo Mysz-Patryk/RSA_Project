{
 "cells": [
  {
   "cell_type": "code",
   "execution_count": 1,
   "metadata": {
    "colab": {
     "base_uri": "https://localhost:8080/",
     "height": 1000
    },
    "id": "6I40uoYc0Mwz",
    "outputId": "310e7f3e-dd7f-4773-eb99-142b851b49eb"
   },
   "outputs": [
    {
     "name": "stdout",
     "output_type": "stream",
     "text": [
      "Klucze RSA i podpis obrazu zapisane do plików\n"
     ]
    }
   ],
   "source": [
    "import numpy as np\n",
    "import imageio\n",
    "from Crypto.PublicKey import RSA\n",
    "from Crypto.Hash import SHA3_256\n",
    "from Crypto.Signature import pkcs1_15\n",
    "\n",
    "def image_histogram_normalization(image):\n",
    "    image_max = np.max(image)\n",
    "    image_min = np.min(image)\n",
    "    if image_max - image_min != 0:\n",
    "        image = ((((image - image_min) / (image_max - image_min)) * (2**8 - 1)).round()).astype(np.uint8)\n",
    "    return image\n",
    "\n",
    "image = image_histogram_normalization(imageio.imread('psycho.png'))\n",
    "\n",
    "tabBits = image.ravel()\n",
    "tabBits = tabBits[tabBits != 0]  #Usun zera z wejscia\n",
    "\n",
    "tc = 0\n",
    "\n",
    "processNumbers = []\n",
    "for x in tabBits:\n",
    "    tc += 1\n",
    "    if tc < 4000:\n",
    "        processNumbers.append(x)\n",
    "\n",
    "#Zamiana na bajty\n",
    "random_bytes = bytes(processNumbers)\n",
    "\n",
    "#Generowanie hasza obrazu\n",
    "hash_obj = SHA3_256.new(random_bytes)\n",
    "\n",
    "#Generowanie klucza prywatnego RSA na podstawie TRNG\n",
    "seed = int.from_bytes(hash_obj.digest(), byteorder='big') % (2**32)\n",
    "np.random.seed(seed)\n",
    "\n",
    "key = RSA.generate(2048, np.random.bytes)\n",
    "private_pem = key.export_key(format='PEM')\n",
    "with open('private_key.pem', 'wb') as f:\n",
    "    f.write(private_pem)\n",
    "\n",
    "#Generowanie klucza publicznego\n",
    "public_key = key.publickey()\n",
    "public_pem = public_key.export_key(format='PEM')\n",
    "with open('public_key.pem', 'wb') as f:\n",
    "    f.write(public_pem)\n",
    "\n",
    "#Podpisywanie hasza obrazu kluczem prywatnym\n",
    "signature = pkcs1_15.new(key).sign(hash_obj)\n",
    "\n",
    "#Zapis podpisu do pliku\n",
    "with open('image_signature.bin', 'wb') as f:\n",
    "    f.write(signature)\n",
    "\n",
    "print(\"Klucze RSA i podpis obrazu zapisane do plików\")"
   ]
  },
  {
   "cell_type": "code",
   "execution_count": null,
   "metadata": {
    "id": "16Yjfxzu0Mw3"
   },
   "outputs": [],
   "source": []
  }
 ],
 "metadata": {
  "colab": {
   "provenance": []
  },
  "kernelspec": {
   "display_name": "Python 3",
   "language": "python",
   "name": "python3"
  },
  "language_info": {
   "codemirror_mode": {
    "name": "ipython",
    "version": 3
   },
   "file_extension": ".py",
   "mimetype": "text/x-python",
   "name": "python",
   "nbconvert_exporter": "python",
   "pygments_lexer": "ipython3",
   "version": "3.8.6"
  }
 },
 "nbformat": 4,
 "nbformat_minor": 4
}
